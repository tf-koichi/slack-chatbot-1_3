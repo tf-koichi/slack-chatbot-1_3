{
 "cells": [
  {
   "cell_type": "code",
   "execution_count": 1,
   "metadata": {},
   "outputs": [],
   "source": [
    "from utils import WSDatabase"
   ]
  },
  {
   "cell_type": "code",
   "execution_count": 2,
   "metadata": {},
   "outputs": [
    {
     "name": "stdout",
     "output_type": "stream",
     "text": [
      "table: world_stats\n",
      "columns:\n",
      "name,description\n",
      "country,国名\n",
      "country_code,国コード\n",
      "average life expectancy at birth,平均寿命（年）\n",
      "alcohol_consumption,一人当たりの年間アルコール消費量（リットル）\n",
      "region,地域\n",
      "gdp per capita,一人当たりのGDP（ドル）\n",
      "\n"
     ]
    }
   ],
   "source": [
    "print(WSDatabase.schema_str())"
   ]
  },
  {
   "cell_type": "code",
   "execution_count": 3,
   "metadata": {},
   "outputs": [
    {
     "name": "stdout",
     "output_type": "stream",
     "text": [
      "country,country_code,average life expectancy at birth,alcohol_consumption,region,gdp per capita\n",
      "Japan,JPN,84.4456097560976,8.36,Western Pacific,33815.3172733799\n",
      "\n"
     ]
    }
   ],
   "source": [
    "with WSDatabase() as db:\n",
    "    print(db.ask_database(\"SELECT * FROM world_stats WHERE country = 'Japan'\"))"
   ]
  },
  {
   "cell_type": "code",
   "execution_count": null,
   "metadata": {},
   "outputs": [],
   "source": []
  }
 ],
 "metadata": {
  "kernelspec": {
   "display_name": ".venv",
   "language": "python",
   "name": "python3"
  },
  "language_info": {
   "codemirror_mode": {
    "name": "ipython",
    "version": 3
   },
   "file_extension": ".py",
   "mimetype": "text/x-python",
   "name": "python",
   "nbconvert_exporter": "python",
   "pygments_lexer": "ipython3",
   "version": "3.10.6"
  },
  "orig_nbformat": 4
 },
 "nbformat": 4,
 "nbformat_minor": 2
}
